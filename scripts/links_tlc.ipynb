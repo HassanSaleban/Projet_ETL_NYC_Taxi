{
 "cells": [
  {
   "cell_type": "code",
   "execution_count": 1,
   "id": "ec11f823",
   "metadata": {},
   "outputs": [
    {
     "name": "stdout",
     "output_type": "stream",
     "text": [
      "508 liens .parquet trouvés\n"
     ]
    }
   ],
   "source": [
    "import re\n",
    "import csv\n",
    "from urllib.parse import urljoin\n",
    "import requests\n",
    "from bs4 import BeautifulSoup\n",
    "\n",
    "URL = \"https://www.nyc.gov/site/tlc/about/tlc-trip-record-data.page\"\n",
    "\n",
    "# 1) Télécharger la page\n",
    "headers = {\"User-Agent\": \"Mozilla/5.0 (LinkScraper/1.0)\"}\n",
    "html = requests.get(URL, headers=headers, timeout=30).text\n",
    "\n",
    "# 2) Parser\n",
    "soup = BeautifulSoup(html, \"lxml\")\n",
    "\n",
    "# 3) Récupérer UNIQUEMENT les liens .parquet\n",
    "parquet_links = []\n",
    "for a in soup.select(\"a[href]\"):\n",
    "    href = urljoin(URL, a[\"href\"])\n",
    "    low = href.lower()\n",
    "    if \"trip-data\" in low and low.endswith(\".parquet\"):\n",
    "        parquet_links.append(href)\n",
    "\n",
    "# 4) Déduire service / année / mois (optionnel mais pratique)\n",
    "pat = re.compile(r\"(yellow|green|fhv|fhvhv)_tripdata_(\\d{4})-(\\d{2})\\.parquet$\", re.I)\n",
    "rows = []\n",
    "for url in sorted(set(parquet_links)):\n",
    "    fname = url.split(\"/\")[-1]\n",
    "    m = pat.search(fname)\n",
    "    service, year, month = (m.group(1).lower(), int(m.group(2)), int(m.group(3))) if m else (None, None, None)\n",
    "    rows.append({\"service\": service, \"year\": year, \"month\": month, \"url\": url})\n",
    "\n",
    "# 5) Export CSV\n",
    "rows.sort(key=lambda r: (r[\"service\"] or \"\", r[\"year\"] or 0, r[\"month\"] or 0, r[\"url\"]))\n",
    "with open(\"nyc_tlc_parquet_links.csv\", \"w\", newline=\"\", encoding=\"utf-8\") as f:\n",
    "    w = csv.DictWriter(f, fieldnames=[\"service\", \"year\", \"month\", \"url\"])\n",
    "    w.writeheader()\n",
    "    w.writerows(rows)\n",
    "\n",
    "print(f\"{len(rows)} liens .parquet trouvés\")\n"
   ]
  }
 ],
 "metadata": {
  "kernelspec": {
   "display_name": "taxi_env",
   "language": "python",
   "name": "python3"
  },
  "language_info": {
   "codemirror_mode": {
    "name": "ipython",
    "version": 3
   },
   "file_extension": ".py",
   "mimetype": "text/x-python",
   "name": "python",
   "nbconvert_exporter": "python",
   "pygments_lexer": "ipython3",
   "version": "3.12.4"
  }
 },
 "nbformat": 4,
 "nbformat_minor": 5
}
